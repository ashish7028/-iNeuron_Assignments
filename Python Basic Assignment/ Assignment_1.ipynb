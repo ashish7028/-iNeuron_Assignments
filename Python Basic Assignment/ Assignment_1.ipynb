{
 "cells": [
  {
   "cell_type": "markdown",
   "id": "05716f5a",
   "metadata": {},
   "source": [
    "# 1. In the below elements which of them are values or an expression? eg:- values can be integer or string and expressions will be mathematical operators."
   ]
  },
  {
   "cell_type": "raw",
   "id": "50c7a4b7",
   "metadata": {},
   "source": [
    "*              --expression\n",
    "'hello'        --Value\n",
    "-87.8          --Value\n",
    "-              --expression\n",
    "/              --expression\n",
    "+              --expression\n",
    "6              --Value"
   ]
  },
  {
   "cell_type": "markdown",
   "id": "49f2df7b",
   "metadata": {},
   "source": [
    "# 2.What is the difference between string and variable?"
   ]
  },
  {
   "cell_type": "raw",
   "id": "aef3c838",
   "metadata": {},
   "source": [
    "A variable is basically the name of the location in the primary memory of your computer. This can be chosen by you. \n",
    "A variable can store everything from strings to numbers.\n",
    "\n",
    "A string is the values inside the quotes assigned to a string.Strings are arrays of bytes representing Unicode characters.\n",
    "However, Python does not have a character data type, a single character is simply a string with a length of 1.\n",
    "Square brackets can be used to access elements of the string\n",
    "\n",
    "A variable can hold a string, but a string can't hold a variable"
   ]
  },
  {
   "cell_type": "markdown",
   "id": "66778935",
   "metadata": {},
   "source": [
    "# 3.Describe three different data types."
   ]
  },
  {
   "cell_type": "raw",
   "id": "f79885c0",
   "metadata": {},
   "source": [
    "There are many type of data types in pythons.Every value in Python has a datatype. \n",
    "Since everything is an object in Python programming, data types are actually classes and variables are\n",
    "instance (object) of these classes.\n",
    "\n",
    "Following are the 3 built-in data type of Python:\n",
    "\n",
    "1) Numeric : Numeric are used to represent the data which has numeric value. Numeric value can be integer, \n",
    "floating number or even complex numbers. These values are defined as int, float and complex class in Python.\n",
    "  ex: a = 5 where a is of type int\n",
    "  \n",
    "2) Set : Set is an unordered collection of data type that is iterable, mutable and has no duplicate elements. \n",
    "The order of elements in a set is undefined though it may consist of various elements\n",
    "ex: b = {5,2,3,1,4}  where b is of type set\n",
    "\n",
    "3) Dictionary: Dictionary is an unordered collection of key-value pairs.\n",
    "It is generally used when we have a huge amount of data. Dictionaries are optimized for retrieving data. We must know the key to retrieve the value.\n",
    "\n",
    "ex: d = {1:'value','key':2}   where d is of type dict"
   ]
  },
  {
   "cell_type": "code",
   "execution_count": 3,
   "id": "279a3133",
   "metadata": {},
   "outputs": [
    {
     "name": "stdout",
     "output_type": "stream",
     "text": [
      "Type of a:  <class 'int'>\n",
      "Type of b:  <class 'set'>\n",
      "Type of d:  <class 'dict'>\n"
     ]
    }
   ],
   "source": [
    "a = 5\n",
    "print(\"Type of a: \", type(a))\n",
    "\n",
    "b = {5,2,3,1,4}\n",
    "print(\"Type of b: \",type(b))\n",
    "\n",
    "d = {1:'value','key':2}\n",
    "print(\"Type of d: \",type(d))"
   ]
  },
  {
   "cell_type": "markdown",
   "id": "0cb24396",
   "metadata": {},
   "source": [
    "# 4. What is an expression made up of? What do all expressions do?"
   ]
  },
  {
   "cell_type": "raw",
   "id": "eda8b5a2",
   "metadata": {},
   "source": [
    "An expression is a combination of operators and operands that is interpreted to produce some other value. \n",
    "In any programming language, an expression is evaluated as per the precedence of its operators.\n",
    "So that if there is more than one operator in an expression, their precedence decides which operation will be \n",
    "performed first\n",
    "\n",
    "itis used to implement the arthematic and logical operation in python"
   ]
  },
  {
   "cell_type": "markdown",
   "id": "8854c8cd",
   "metadata": {},
   "source": [
    "# 5. This assignment statements, like spam = 10. What is the difference between an expression and a statement?"
   ]
  },
  {
   "cell_type": "raw",
   "id": "5179825c",
   "metadata": {},
   "source": [
    "STATEMENT:\n",
    "\n",
    "A Statement is a action or a command that does something. Ex: If-Else,Loops..etc"
   ]
  },
  {
   "cell_type": "code",
   "execution_count": 12,
   "id": "0cb0848a",
   "metadata": {},
   "outputs": [
    {
     "name": "stdout",
     "output_type": "stream",
     "text": [
      "Hey!\n"
     ]
    }
   ],
   "source": [
    "a= 6\n",
    "if a >5 :\n",
    "    print(\"Hey!\") \n",
    "else:\n",
    "    print(\"Hi!\")"
   ]
  },
  {
   "cell_type": "raw",
   "id": "9b06e9f2",
   "metadata": {},
   "source": [
    "EXPRESSION:\n",
    "\n",
    "A Expression is a combination of values, operators and literals which yields something."
   ]
  },
  {
   "cell_type": "code",
   "execution_count": 13,
   "id": "346765e7",
   "metadata": {},
   "outputs": [],
   "source": [
    "a = 5 + 5"
   ]
  },
  {
   "cell_type": "markdown",
   "id": "802d457b",
   "metadata": {},
   "source": [
    "# 6. After running the following code, what does the variable bacon contain?\n",
    "bacon = 22\n",
    "bacon + 1"
   ]
  },
  {
   "cell_type": "code",
   "execution_count": 15,
   "id": "ce723937",
   "metadata": {},
   "outputs": [
    {
     "name": "stdout",
     "output_type": "stream",
     "text": [
      "Bacon contains: 22\n",
      "Bacon contains: 22\n"
     ]
    }
   ],
   "source": [
    "bacon = 22\n",
    "print('Bacon contains:', bacon)\n",
    "bacon +1 \n",
    "print('Bacon contains:', bacon)"
   ]
  },
  {
   "cell_type": "markdown",
   "id": "831f0bce",
   "metadata": {},
   "source": [
    "# 7. What should the values of the following two terms be?\n",
    "'spam' + 'spamspam'\n",
    "\n",
    "'spam' * 3"
   ]
  },
  {
   "cell_type": "code",
   "execution_count": 16,
   "id": "2aa2bb17",
   "metadata": {},
   "outputs": [
    {
     "name": "stdout",
     "output_type": "stream",
     "text": [
      "spamspamspam\n"
     ]
    }
   ],
   "source": [
    "a = 'spam' + 'spamspam'\n",
    "print(a)"
   ]
  },
  {
   "cell_type": "code",
   "execution_count": 17,
   "id": "8425ef1b",
   "metadata": {},
   "outputs": [
    {
     "name": "stdout",
     "output_type": "stream",
     "text": [
      "spamspamspam\n"
     ]
    }
   ],
   "source": [
    "b = 'spam'*3\n",
    "print(b)"
   ]
  },
  {
   "cell_type": "markdown",
   "id": "21cd1026",
   "metadata": {},
   "source": [
    "# 8. Why is eggs a valid variable name while 100 is invalid?"
   ]
  },
  {
   "cell_type": "raw",
   "id": "f99c2cfa",
   "metadata": {},
   "source": [
    "Eggs is a valid variable name while 100 is not because Variable names cannot begin with a number."
   ]
  },
  {
   "cell_type": "markdown",
   "id": "de3a901a",
   "metadata": {},
   "source": [
    "#  9. What three functions can be used to get the integer, floating-point number, or string version of a value?"
   ]
  },
  {
   "cell_type": "code",
   "execution_count": 19,
   "id": "d75b9d75",
   "metadata": {},
   "outputs": [
    {
     "name": "stdout",
     "output_type": "stream",
     "text": [
      "Type of b:  <class 'int'>\n",
      "Type of c:  <class 'float'>\n",
      "Type of d:  <class 'str'>\n"
     ]
    }
   ],
   "source": [
    "a = 10\n",
    "\n",
    "b= int(a)\n",
    "print(\"Type of b: \",type(b))\n",
    "\n",
    "c= float(a)\n",
    "print(\"Type of c: \",type(c))\n",
    "\n",
    "d= str(a)\n",
    "print(\"Type of d: \",type(d))"
   ]
  },
  {
   "cell_type": "markdown",
   "id": "cb5368b2",
   "metadata": {},
   "source": [
    "# 10. Why does this expression cause an error? How can you fix it?\n",
    "'I have eaten ' + 99 + ' burritos.'"
   ]
  },
  {
   "cell_type": "raw",
   "id": "7ab6af52",
   "metadata": {},
   "source": [
    "expression is causing an error because 99 is not in single quote "
   ]
  },
  {
   "cell_type": "code",
   "execution_count": 20,
   "id": "ee6fa0a7",
   "metadata": {},
   "outputs": [
    {
     "data": {
      "text/plain": [
       "'I have eaten 99 burritos.'"
      ]
     },
     "execution_count": 20,
     "metadata": {},
     "output_type": "execute_result"
    }
   ],
   "source": [
    "Correct_form = 'I have eaten ' + '99' + ' burritos.'\n",
    "Correct_form"
   ]
  },
  {
   "cell_type": "code",
   "execution_count": null,
   "id": "3eefb056",
   "metadata": {},
   "outputs": [],
   "source": []
  }
 ],
 "metadata": {
  "kernelspec": {
   "display_name": "Python 3 (ipykernel)",
   "language": "python",
   "name": "python3"
  },
  "language_info": {
   "codemirror_mode": {
    "name": "ipython",
    "version": 3
   },
   "file_extension": ".py",
   "mimetype": "text/x-python",
   "name": "python",
   "nbconvert_exporter": "python",
   "pygments_lexer": "ipython3",
   "version": "3.9.7"
  }
 },
 "nbformat": 4,
 "nbformat_minor": 5
}
